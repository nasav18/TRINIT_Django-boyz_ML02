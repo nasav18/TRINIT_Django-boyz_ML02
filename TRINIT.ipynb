{
  "nbformat": 4,
  "nbformat_minor": 0,
  "metadata": {
    "colab": {
      "name": "TRINIT.ipynb",
      "provenance": [],
      "collapsed_sections": []
    },
    "kernelspec": {
      "name": "python3",
      "display_name": "Python 3"
    },
    "language_info": {
      "name": "python"
    }
  },
  "cells": [
    {
      "cell_type": "code",
      "execution_count": 1,
      "metadata": {
        "id": "Uijh2cdU1pLQ"
      },
      "outputs": [],
      "source": [
        "import numpy as np\n",
        "import pandas as pd\n",
        "import matplotlib.pyplot as plt"
      ]
    },
    {
      "cell_type": "code",
      "source": [
        "dataset_train=pd.read_csv('/content/drive/MyDrive/Train.csv')\n",
        "training_set=dataset_train.iloc[:, 5:6].values"
      ],
      "metadata": {
        "id": "_2pevY0p3OLG"
      },
      "execution_count": 2,
      "outputs": []
    },
    {
      "cell_type": "code",
      "source": [
        "print(training_set)"
      ],
      "metadata": {
        "id": "HWN91BTQ3OVk"
      },
      "execution_count": null,
      "outputs": []
    },
    {
      "cell_type": "code",
      "source": [
        "from sklearn.preprocessing import MinMaxScaler\n",
        "sc=MinMaxScaler(feature_range=(0, 1))\n",
        "training_set_scaled=sc.fit_transform(training_set)\n",
        "print(training_set_scaled)"
      ],
      "metadata": {
        "colab": {
          "base_uri": "https://localhost:8080/"
        },
        "id": "CisJjSIE3pmP",
        "outputId": "c658ee9b-1c4c-476a-b6c4-7e77391d6267"
      },
      "execution_count": 3,
      "outputs": [
        {
          "output_type": "stream",
          "name": "stdout",
          "text": [
            "[[0.72788295]\n",
            " [0.68527877]\n",
            " [0.65229488]\n",
            " [0.70406125]\n",
            " [0.61564612]\n",
            " [0.66054085]\n",
            " [0.62526642]\n",
            " [0.57029328]\n",
            " [0.5281472 ]\n",
            " [0.46676053]\n",
            " [0.54280671]\n",
            " [0.6390097 ]\n",
            " [0.67382603]\n",
            " [0.72284374]\n",
            " [0.67290981]\n",
            " [0.75124653]\n",
            " [0.7397938 ]\n",
            " [0.94090387]\n",
            " [0.97709452]\n",
            " [0.93311601]\n",
            " [0.89692536]\n",
            " [0.87172934]\n",
            " [0.93632277]\n",
            " [0.90013212]\n",
            " [0.81034266]\n",
            " [0.82362784]\n",
            " [0.94411064]\n",
            " [1.        ]\n",
            " [0.89509292]\n",
            " [0.8795172 ]\n",
            " [0.87585232]\n",
            " [0.25419772]\n",
            " [0.23358279]\n",
            " [0.22258816]\n",
            " [0.19922458]\n",
            " [0.10943511]\n",
            " [0.14012845]\n",
            " [0.10622834]\n",
            " [0.16028527]\n",
            " [0.15570417]\n",
            " [0.19922458]\n",
            " [0.16619946]\n",
            " [0.29845384]\n",
            " [0.34301782]\n",
            " [0.2447854 ]\n",
            " [0.21418722]\n",
            " [0.21661565]\n",
            " [0.15299087]\n",
            " [0.14861971]\n",
            " [0.12870661]\n",
            " [0.1092792 ]\n",
            " [0.04128325]\n",
            " [0.01165645]\n",
            " [0.03205523]\n",
            " [0.04759716]\n",
            " [0.04468305]\n",
            " [0.        ]\n",
            " [0.13064935]\n",
            " [0.06265341]\n",
            " [0.05391107]\n",
            " [0.0529397 ]\n",
            " [0.14716265]\n",
            " [0.19913098]\n",
            " [0.28024043]\n",
            " [0.35017911]\n",
            " [0.3768918 ]\n",
            " [0.40214744]\n",
            " [0.32880896]\n",
            " [0.38611982]\n",
            " [0.35455028]\n",
            " [0.49151354]\n",
            " [0.56290928]\n",
            " [0.54639598]\n",
            " [0.63916187]\n",
            " [0.67704533]\n",
            " [0.71978564]\n",
            " [0.76786848]\n",
            " [0.8169227 ]]\n"
          ]
        }
      ]
    },
    {
      "cell_type": "code",
      "source": [
        "x_train=[]\n",
        "y_train=[]\n",
        "for i in range (20, 78):\n",
        "  x_train.append(training_set_scaled[i-20:i, 0])\n",
        "  y_train.append(training_set_scaled[i, 0])\n",
        "x_train, y_train=np.array(x_train), np.array(y_train)"
      ],
      "metadata": {
        "id": "tIm_2d1X3psR"
      },
      "execution_count": 4,
      "outputs": []
    },
    {
      "cell_type": "code",
      "source": [
        "print(x_train)"
      ],
      "metadata": {
        "id": "9Ptpp09G3p0J"
      },
      "execution_count": null,
      "outputs": []
    },
    {
      "cell_type": "code",
      "source": [
        "print(y_train)"
      ],
      "metadata": {
        "id": "fHRHYAxO33fS"
      },
      "execution_count": null,
      "outputs": []
    },
    {
      "cell_type": "code",
      "source": [
        "x_train=np.reshape(x_train, (x_train.shape[0], x_train.shape[1], 1))\n",
        "print(x_train)"
      ],
      "metadata": {
        "colab": {
          "base_uri": "https://localhost:8080/"
        },
        "id": "I1jstcMd33j3",
        "outputId": "27f4033c-dd03-4b10-f22a-8c74738a4261"
      },
      "execution_count": 5,
      "outputs": [
        {
          "output_type": "stream",
          "name": "stdout",
          "text": [
            "[[[0.72788295]\n",
            "  [0.68527877]\n",
            "  [0.65229488]\n",
            "  ...\n",
            "  [0.94090387]\n",
            "  [0.97709452]\n",
            "  [0.93311601]]\n",
            "\n",
            " [[0.68527877]\n",
            "  [0.65229488]\n",
            "  [0.70406125]\n",
            "  ...\n",
            "  [0.97709452]\n",
            "  [0.93311601]\n",
            "  [0.89692536]]\n",
            "\n",
            " [[0.65229488]\n",
            "  [0.70406125]\n",
            "  [0.61564612]\n",
            "  ...\n",
            "  [0.93311601]\n",
            "  [0.89692536]\n",
            "  [0.87172934]]\n",
            "\n",
            " ...\n",
            "\n",
            " [[0.04468305]\n",
            "  [0.        ]\n",
            "  [0.13064935]\n",
            "  ...\n",
            "  [0.54639598]\n",
            "  [0.63916187]\n",
            "  [0.67704533]]\n",
            "\n",
            " [[0.        ]\n",
            "  [0.13064935]\n",
            "  [0.06265341]\n",
            "  ...\n",
            "  [0.63916187]\n",
            "  [0.67704533]\n",
            "  [0.71978564]]\n",
            "\n",
            " [[0.13064935]\n",
            "  [0.06265341]\n",
            "  [0.05391107]\n",
            "  ...\n",
            "  [0.67704533]\n",
            "  [0.71978564]\n",
            "  [0.76786848]]]\n"
          ]
        }
      ]
    },
    {
      "cell_type": "code",
      "source": [
        "from keras.models import Sequential\n",
        "from keras.layers import Dense\n",
        "from keras.layers import LSTM\n",
        "from keras.layers import Dropout\n",
        "\n",
        "regressor=Sequential()\n",
        "regressor.add(LSTM(units=50, return_sequences=True, input_shape=(x_train.shape[1], 1)))\n",
        "regressor.add(Dropout(0.2))\n",
        "regressor.add(LSTM(units=50, return_sequences=True))\n",
        "regressor.add(Dropout(0.2))\n",
        "regressor.add(LSTM(units=50, return_sequences=True))\n",
        "regressor.add(Dropout(0.2))\n",
        "regressor.add(LSTM(units=50))\n",
        "regressor.add(Dropout(0.2))\n",
        "regressor.add(Dense(units=1))\n",
        "regressor.compile(optimizer='adam', loss='mean_squared_error')\n",
        "regressor.fit(x_train, y_train, epochs=100, batch_size=10)\n"
      ],
      "metadata": {
        "colab": {
          "base_uri": "https://localhost:8080/"
        },
        "id": "1G8YrdKI33oY",
        "outputId": "53ed6d55-d2c5-4008-c41e-90bfe61cd9d0"
      },
      "execution_count": 19,
      "outputs": [
        {
          "output_type": "stream",
          "name": "stdout",
          "text": [
            "Epoch 1/100\n",
            "6/6 [==============================] - 6s 29ms/step - loss: 0.1829\n",
            "Epoch 2/100\n",
            "6/6 [==============================] - 0s 28ms/step - loss: 0.1057\n",
            "Epoch 3/100\n",
            "6/6 [==============================] - 0s 29ms/step - loss: 0.0912\n",
            "Epoch 4/100\n",
            "6/6 [==============================] - 0s 29ms/step - loss: 0.0986\n",
            "Epoch 5/100\n",
            "6/6 [==============================] - 0s 30ms/step - loss: 0.0860\n",
            "Epoch 6/100\n",
            "6/6 [==============================] - 0s 28ms/step - loss: 0.0851\n",
            "Epoch 7/100\n",
            "6/6 [==============================] - 0s 30ms/step - loss: 0.0876\n",
            "Epoch 8/100\n",
            "6/6 [==============================] - 0s 29ms/step - loss: 0.0834\n",
            "Epoch 9/100\n",
            "6/6 [==============================] - 0s 29ms/step - loss: 0.0784\n",
            "Epoch 10/100\n",
            "6/6 [==============================] - 0s 28ms/step - loss: 0.0793\n",
            "Epoch 11/100\n",
            "6/6 [==============================] - 0s 30ms/step - loss: 0.0788\n",
            "Epoch 12/100\n",
            "6/6 [==============================] - 0s 30ms/step - loss: 0.0658\n",
            "Epoch 13/100\n",
            "6/6 [==============================] - 0s 29ms/step - loss: 0.0638\n",
            "Epoch 14/100\n",
            "6/6 [==============================] - 0s 28ms/step - loss: 0.0519\n",
            "Epoch 15/100\n",
            "6/6 [==============================] - 0s 28ms/step - loss: 0.0659\n",
            "Epoch 16/100\n",
            "6/6 [==============================] - 0s 30ms/step - loss: 0.0482\n",
            "Epoch 17/100\n",
            "6/6 [==============================] - 0s 29ms/step - loss: 0.0528\n",
            "Epoch 18/100\n",
            "6/6 [==============================] - 0s 30ms/step - loss: 0.0513\n",
            "Epoch 19/100\n",
            "6/6 [==============================] - 0s 28ms/step - loss: 0.0411\n",
            "Epoch 20/100\n",
            "6/6 [==============================] - 0s 29ms/step - loss: 0.0541\n",
            "Epoch 21/100\n",
            "6/6 [==============================] - 0s 29ms/step - loss: 0.0552\n",
            "Epoch 22/100\n",
            "6/6 [==============================] - 0s 29ms/step - loss: 0.0451\n",
            "Epoch 23/100\n",
            "6/6 [==============================] - 0s 29ms/step - loss: 0.0370\n",
            "Epoch 24/100\n",
            "6/6 [==============================] - 0s 31ms/step - loss: 0.0441\n",
            "Epoch 25/100\n",
            "6/6 [==============================] - 0s 28ms/step - loss: 0.0408\n",
            "Epoch 26/100\n",
            "6/6 [==============================] - 0s 30ms/step - loss: 0.0431\n",
            "Epoch 27/100\n",
            "6/6 [==============================] - 0s 29ms/step - loss: 0.0403\n",
            "Epoch 28/100\n",
            "6/6 [==============================] - 0s 29ms/step - loss: 0.0390\n",
            "Epoch 29/100\n",
            "6/6 [==============================] - 0s 29ms/step - loss: 0.0352\n",
            "Epoch 30/100\n",
            "6/6 [==============================] - 0s 29ms/step - loss: 0.0347\n",
            "Epoch 31/100\n",
            "6/6 [==============================] - 0s 30ms/step - loss: 0.0327\n",
            "Epoch 32/100\n",
            "6/6 [==============================] - 0s 29ms/step - loss: 0.0333\n",
            "Epoch 33/100\n",
            "6/6 [==============================] - 0s 29ms/step - loss: 0.0326\n",
            "Epoch 34/100\n",
            "6/6 [==============================] - 0s 30ms/step - loss: 0.0354\n",
            "Epoch 35/100\n",
            "6/6 [==============================] - 0s 30ms/step - loss: 0.0333\n",
            "Epoch 36/100\n",
            "6/6 [==============================] - 0s 29ms/step - loss: 0.0300\n",
            "Epoch 37/100\n",
            "6/6 [==============================] - 0s 30ms/step - loss: 0.0364\n",
            "Epoch 38/100\n",
            "6/6 [==============================] - 0s 29ms/step - loss: 0.0306\n",
            "Epoch 39/100\n",
            "6/6 [==============================] - 0s 28ms/step - loss: 0.0285\n",
            "Epoch 40/100\n",
            "6/6 [==============================] - 0s 28ms/step - loss: 0.0334\n",
            "Epoch 41/100\n",
            "6/6 [==============================] - 0s 29ms/step - loss: 0.0287\n",
            "Epoch 42/100\n",
            "6/6 [==============================] - 0s 29ms/step - loss: 0.0280\n",
            "Epoch 43/100\n",
            "6/6 [==============================] - 0s 29ms/step - loss: 0.0318\n",
            "Epoch 44/100\n",
            "6/6 [==============================] - 0s 29ms/step - loss: 0.0320\n",
            "Epoch 45/100\n",
            "6/6 [==============================] - 0s 30ms/step - loss: 0.0275\n",
            "Epoch 46/100\n",
            "6/6 [==============================] - 0s 30ms/step - loss: 0.0272\n",
            "Epoch 47/100\n",
            "6/6 [==============================] - 0s 29ms/step - loss: 0.0309\n",
            "Epoch 48/100\n",
            "6/6 [==============================] - 0s 30ms/step - loss: 0.0291\n",
            "Epoch 49/100\n",
            "6/6 [==============================] - 0s 29ms/step - loss: 0.0277\n",
            "Epoch 50/100\n",
            "6/6 [==============================] - 0s 30ms/step - loss: 0.0256\n",
            "Epoch 51/100\n",
            "6/6 [==============================] - 0s 30ms/step - loss: 0.0229\n",
            "Epoch 52/100\n",
            "6/6 [==============================] - 0s 33ms/step - loss: 0.0300\n",
            "Epoch 53/100\n",
            "6/6 [==============================] - 0s 29ms/step - loss: 0.0282\n",
            "Epoch 54/100\n",
            "6/6 [==============================] - 0s 30ms/step - loss: 0.0250\n",
            "Epoch 55/100\n",
            "6/6 [==============================] - 0s 30ms/step - loss: 0.0266\n",
            "Epoch 56/100\n",
            "6/6 [==============================] - 0s 29ms/step - loss: 0.0230\n",
            "Epoch 57/100\n",
            "6/6 [==============================] - 0s 29ms/step - loss: 0.0272\n",
            "Epoch 58/100\n",
            "6/6 [==============================] - 0s 29ms/step - loss: 0.0219\n",
            "Epoch 59/100\n",
            "6/6 [==============================] - 0s 29ms/step - loss: 0.0320\n",
            "Epoch 60/100\n",
            "6/6 [==============================] - 0s 29ms/step - loss: 0.0265\n",
            "Epoch 61/100\n",
            "6/6 [==============================] - 0s 29ms/step - loss: 0.0294\n",
            "Epoch 62/100\n",
            "6/6 [==============================] - 0s 29ms/step - loss: 0.0227\n",
            "Epoch 63/100\n",
            "6/6 [==============================] - 0s 31ms/step - loss: 0.0204\n",
            "Epoch 64/100\n",
            "6/6 [==============================] - 0s 29ms/step - loss: 0.0201\n",
            "Epoch 65/100\n",
            "6/6 [==============================] - 0s 30ms/step - loss: 0.0351\n",
            "Epoch 66/100\n",
            "6/6 [==============================] - 0s 29ms/step - loss: 0.0310\n",
            "Epoch 67/100\n",
            "6/6 [==============================] - 0s 29ms/step - loss: 0.0232\n",
            "Epoch 68/100\n",
            "6/6 [==============================] - 0s 29ms/step - loss: 0.0236\n",
            "Epoch 69/100\n",
            "6/6 [==============================] - 0s 30ms/step - loss: 0.0249\n",
            "Epoch 70/100\n",
            "6/6 [==============================] - 0s 30ms/step - loss: 0.0224\n",
            "Epoch 71/100\n",
            "6/6 [==============================] - 0s 27ms/step - loss: 0.0258\n",
            "Epoch 72/100\n",
            "6/6 [==============================] - 0s 29ms/step - loss: 0.0284\n",
            "Epoch 73/100\n",
            "6/6 [==============================] - 0s 29ms/step - loss: 0.0280\n",
            "Epoch 74/100\n",
            "6/6 [==============================] - 0s 28ms/step - loss: 0.0264\n",
            "Epoch 75/100\n",
            "6/6 [==============================] - 0s 29ms/step - loss: 0.0242\n",
            "Epoch 76/100\n",
            "6/6 [==============================] - 0s 29ms/step - loss: 0.0173\n",
            "Epoch 77/100\n",
            "6/6 [==============================] - 0s 28ms/step - loss: 0.0168\n",
            "Epoch 78/100\n",
            "6/6 [==============================] - 0s 29ms/step - loss: 0.0190\n",
            "Epoch 79/100\n",
            "6/6 [==============================] - 0s 28ms/step - loss: 0.0217\n",
            "Epoch 80/100\n",
            "6/6 [==============================] - 0s 31ms/step - loss: 0.0272\n",
            "Epoch 81/100\n",
            "6/6 [==============================] - 0s 29ms/step - loss: 0.0168\n",
            "Epoch 82/100\n",
            "6/6 [==============================] - 0s 30ms/step - loss: 0.0232\n",
            "Epoch 83/100\n",
            "6/6 [==============================] - 0s 30ms/step - loss: 0.0176\n",
            "Epoch 84/100\n",
            "6/6 [==============================] - 0s 29ms/step - loss: 0.0251\n",
            "Epoch 85/100\n",
            "6/6 [==============================] - 0s 28ms/step - loss: 0.0224\n",
            "Epoch 86/100\n",
            "6/6 [==============================] - 0s 29ms/step - loss: 0.0197\n",
            "Epoch 87/100\n",
            "6/6 [==============================] - 0s 29ms/step - loss: 0.0175\n",
            "Epoch 88/100\n",
            "6/6 [==============================] - 0s 29ms/step - loss: 0.0161\n",
            "Epoch 89/100\n",
            "6/6 [==============================] - 0s 29ms/step - loss: 0.0171\n",
            "Epoch 90/100\n",
            "6/6 [==============================] - 0s 29ms/step - loss: 0.0189\n",
            "Epoch 91/100\n",
            "6/6 [==============================] - 0s 30ms/step - loss: 0.0214\n",
            "Epoch 92/100\n",
            "6/6 [==============================] - 0s 29ms/step - loss: 0.0217\n",
            "Epoch 93/100\n",
            "6/6 [==============================] - 0s 28ms/step - loss: 0.0206\n",
            "Epoch 94/100\n",
            "6/6 [==============================] - 0s 28ms/step - loss: 0.0165\n",
            "Epoch 95/100\n",
            "6/6 [==============================] - 0s 29ms/step - loss: 0.0174\n",
            "Epoch 96/100\n",
            "6/6 [==============================] - 0s 31ms/step - loss: 0.0239\n",
            "Epoch 97/100\n",
            "6/6 [==============================] - 0s 31ms/step - loss: 0.0212\n",
            "Epoch 98/100\n",
            "6/6 [==============================] - 0s 30ms/step - loss: 0.0186\n",
            "Epoch 99/100\n",
            "6/6 [==============================] - 0s 29ms/step - loss: 0.0156\n",
            "Epoch 100/100\n",
            "6/6 [==============================] - 0s 28ms/step - loss: 0.0209\n"
          ]
        },
        {
          "output_type": "execute_result",
          "data": {
            "text/plain": [
              "<keras.callbacks.History at 0x7f144f678cd0>"
            ]
          },
          "metadata": {},
          "execution_count": 19
        }
      ]
    },
    {
      "cell_type": "code",
      "source": [
        "dataset_test=pd.read_csv('/content/drive/MyDrive/Test.csv')\n",
        "real_stock_price=dataset_test.iloc[:, 5:6].values\n",
        "print(real_stock_price)"
      ],
      "metadata": {
        "colab": {
          "base_uri": "https://localhost:8080/"
        },
        "id": "L8jF0oYg4J8b",
        "outputId": "d7b7afd6-ed57-41b9-9af3-5daca9cd1e81"
      },
      "execution_count": 20,
      "outputs": [
        {
          "output_type": "stream",
          "name": "stdout",
          "text": [
            "[[133.35]\n",
            " [133.91]\n",
            " [133.66]\n",
            " [136.04]\n",
            " [138.02]\n",
            " [138.22]\n",
            " [135.34]\n",
            " [134.83]\n",
            " [135.03]\n",
            " [132.87]\n",
            " [133.59]\n",
            " [134.76]\n",
            " [134.21]\n",
            " [132.94]\n",
            " [131.58]\n",
            " [130.82]\n",
            " [129.35]\n",
            " [128.82]\n",
            " [136.1 ]\n",
            " [134.26]\n",
            " [132.52]\n",
            " [134.5 ]]\n"
          ]
        }
      ]
    },
    {
      "cell_type": "code",
      "source": [
        "dataset_total=pd.concat((dataset_train['adjusted_close'], dataset_test['adjusted_close']), axis=0)\n",
        "inputs=dataset_total[len(dataset_total)-len(dataset_test)-20:].values\n",
        "inputs=inputs.reshape(-1, 1)\n",
        "inputs=sc.transform(inputs)\n",
        "x_test=[]\n",
        "for i in range(20, 43):\n",
        "  x_test.append(inputs[i-20:i, 0])\n",
        "x_test=np.array(x_test)\n",
        "x_test=np.reshape(x_test, (x_test.shape[0], x_test.shape[1], 1))\n",
        "predicted_stock_price=regressor.predict(x_test)\n",
        "predicted_stock_price=sc.inverse_transform(predicted_stock_price)"
      ],
      "metadata": {
        "id": "jeVWMPgD4fjP"
      },
      "execution_count": 21,
      "outputs": []
    },
    {
      "cell_type": "code",
      "source": [
        "print(predicted_stock_price[22])"
      ],
      "metadata": {
        "colab": {
          "base_uri": "https://localhost:8080/"
        },
        "id": "MO3CjnQn4jUW",
        "outputId": "adecfd41-6dcf-4671-95e6-61d615a1732c"
      },
      "execution_count": 22,
      "outputs": [
        {
          "output_type": "stream",
          "name": "stdout",
          "text": [
            "[121.27536]\n"
          ]
        }
      ]
    },
    {
      "cell_type": "code",
      "source": [
        "import math\n",
        "from sklearn.metrics import mean_squared_error\n",
        "rmse = math.sqrt(mean_squared_error(real_stock_price, predicted_stock_price[0:22]))\n",
        "print(rmse)"
      ],
      "metadata": {
        "colab": {
          "base_uri": "https://localhost:8080/"
        },
        "id": "KPdWMpH54ldx",
        "outputId": "5ab8ccb6-ca74-4451-eb35-65060f291ba6"
      },
      "execution_count": 23,
      "outputs": [
        {
          "output_type": "stream",
          "name": "stdout",
          "text": [
            "7.017523723657283\n"
          ]
        }
      ]
    },
    {
      "cell_type": "markdown",
      "source": [
        ""
      ],
      "metadata": {
        "id": "FWyppwDt5Dw7"
      }
    },
    {
      "cell_type": "code",
      "source": [
        "from sklearn.metrics import mean_absolute_error as mae\n",
        "error = mae(real_stock_price, predicted_stock_price[0:22])\n",
        "print(error)"
      ],
      "metadata": {
        "colab": {
          "base_uri": "https://localhost:8080/"
        },
        "id": "QhwDqPc73JHX",
        "outputId": "fb95687a-a997-478d-e4f7-830bbf398689"
      },
      "execution_count": 17,
      "outputs": [
        {
          "output_type": "stream",
          "name": "stdout",
          "text": [
            "6.223055544766511\n"
          ]
        }
      ]
    }
  ]
}